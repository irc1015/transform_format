{
 "cells": [
  {
   "cell_type": "code",
   "execution_count": 16,
   "id": "8693f093-8d41-48e2-9457-5025b2db8e66",
   "metadata": {},
   "outputs": [],
   "source": [
    "import cv2\n",
    "import os \n",
    "from pathlib import Path\n",
    "import shutil"
   ]
  },
  {
   "cell_type": "code",
   "execution_count": 2,
   "id": "1b91628f-fd10-41d3-b572-f19e041e1859",
   "metadata": {},
   "outputs": [],
   "source": [
    "video_path = '/Users/zhuzhirui/Desktop/Minsk.mov'\n",
    "video = cv2.VideoCapture(video_path)"
   ]
  },
  {
   "cell_type": "code",
   "execution_count": 6,
   "id": "968d7a0f-7e4d-45db-ad52-5bcdc09ea33a",
   "metadata": {},
   "outputs": [
    {
     "name": "stdout",
     "output_type": "stream",
     "text": [
      "frames is 230375\n",
      "FPS is 60\n"
     ]
    }
   ],
   "source": [
    "frame_count = int(video.get(cv2.CAP_PROP_FRAME_COUNT))\n",
    "print('frames is {}'.format(frame_count))\n",
    "fps = int(video.get(cv2.CAP_PROP_FPS))\n",
    "print('FPS is {}'.format(fps))"
   ]
  },
  {
   "cell_type": "code",
   "execution_count": 10,
   "id": "4a18b574-7b11-4083-9085-a877d765d205",
   "metadata": {},
   "outputs": [
    {
     "name": "stdout",
     "output_type": "stream",
     "text": [
      "Minsk.mov\n",
      "Minsk\n"
     ]
    }
   ],
   "source": [
    "video_file_name = video_path.split('/')[-1]\n",
    "print(video_file_name)\n",
    "video_name = video_file_name.split('.')[0]\n",
    "print(video_name)"
   ]
  },
  {
   "cell_type": "code",
   "execution_count": 18,
   "id": "07a560e4-3386-4534-a326-7f2c556461e1",
   "metadata": {},
   "outputs": [],
   "source": [
    "if os.path.exists(video_name):\n",
    "    shutil.rmtree(video_name)\n",
    "Path(video_name).mkdir(parents=True, exist_ok=False)"
   ]
  },
  {
   "cell_type": "code",
   "execution_count": 31,
   "id": "fd8bd9fb-a1fa-4255-9ab8-cc783568ebd7",
   "metadata": {},
   "outputs": [
    {
     "name": "stdout",
     "output_type": "stream",
     "text": [
      "(1428, 2336, 3)\n",
      "1428\n",
      "2336\n"
     ]
    },
    {
     "data": {
      "text/plain": [
       "True"
      ]
     },
     "execution_count": 31,
     "metadata": {},
     "output_type": "execute_result"
    }
   ],
   "source": [
    "img = cv2.imread(\"/Users/zhuzhirui/PycharmProjects/yolov4/Minsk/0.jpg\")\n",
    "print(img.shape)#(h, w, c)\n",
    "ori_height = img.shape[0]\n",
    "ori_width = img.shape[1]\n",
    "print(ori_height)\n",
    "print(ori_width)\n",
    "\n",
    "#because lower right\n",
    "new_width = int(ori_width / 6 * 2) \n",
    "crop_img = img[(ori_height - 720):, new_width:(new_width+1280)]\n",
    "cv2.imwrite('crop_img.jpg', crop_img)"
   ]
  },
  {
   "cell_type": "code",
   "execution_count": null,
   "id": "cdb3df81-01b5-4f06-a4a8-47c6c30dcba9",
   "metadata": {},
   "outputs": [],
   "source": []
  }
 ],
 "metadata": {
  "kernelspec": {
   "display_name": "Python 3 (ipykernel)",
   "language": "python",
   "name": "python3"
  },
  "language_info": {
   "codemirror_mode": {
    "name": "ipython",
    "version": 3
   },
   "file_extension": ".py",
   "mimetype": "text/x-python",
   "name": "python",
   "nbconvert_exporter": "python",
   "pygments_lexer": "ipython3",
   "version": "3.11.4"
  }
 },
 "nbformat": 4,
 "nbformat_minor": 5
}
