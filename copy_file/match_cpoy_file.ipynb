{
 "cells": [
  {
   "cell_type": "code",
   "execution_count": 8,
   "id": "dabc59f0-6420-4a8b-86b2-1b75ded71d9f",
   "metadata": {},
   "outputs": [],
   "source": [
    "import os \n",
    "from pathlib import Path\n",
    "import glob\n",
    "import shutil"
   ]
  },
  {
   "cell_type": "code",
   "execution_count": 9,
   "id": "e1e14f14-dba7-4255-b43f-5d4ae49ed2ed",
   "metadata": {},
   "outputs": [
    {
     "name": "stdout",
     "output_type": "stream",
     "text": [
      "110000\n"
     ]
    }
   ],
   "source": [
    "path = '/hy-tmp/bdd100k'\n",
    "image_lst = glob.glob(os.path.join(path, '**/*.jpg'), recursive=True)\n",
    "print(len(image_lst))"
   ]
  },
  {
   "cell_type": "code",
   "execution_count": 10,
   "id": "54d3a206-1d37-4a70-a33c-28065fc415c6",
   "metadata": {},
   "outputs": [
    {
     "name": "stdout",
     "output_type": "stream",
     "text": [
      "/hy-tmp/bdd100k/bdd100k/images/100k/test/cb2fe290-8786cd14.jpg\n"
     ]
    }
   ],
   "source": [
    "print(image_lst[0])"
   ]
  },
  {
   "cell_type": "code",
   "execution_count": 11,
   "id": "4ab10ebf-9842-46de-bf37-bc579fae41c9",
   "metadata": {},
   "outputs": [],
   "source": [
    "re_name = 'BDD100K'\n",
    "if os.path.exists(re_name):\n",
    "    shutil.rmtree(re_name)\n",
    "Path(os.path.join(re_name, 'image')).mkdir(parents=True, exist_ok=False)"
   ]
  },
  {
   "cell_type": "code",
   "execution_count": 12,
   "id": "ab896d01-540d-4cef-9a8c-41a75a98040c",
   "metadata": {},
   "outputs": [
    {
     "name": "stdout",
     "output_type": "stream",
     "text": [
      "105740\n"
     ]
    }
   ],
   "source": [
    "for filename in image_lst:\n",
    "    shutil.copy(filename, os.path.join(re_name, 'image'))\n",
    "image_lst1 = os.listdir(os.path.join(re_name, 'image'))\n",
    "print(len(image_lst1))"
   ]
  },
  {
   "cell_type": "code",
   "execution_count": 13,
   "id": "8f26fc99-e898-4bb4-8bd1-9a0554699fed",
   "metadata": {},
   "outputs": [],
   "source": [
    "re_name = 'BDD100K'\n",
    "if os.path.exists(os.path.join(re_name, 'label')):\n",
    "    shutil.rmtree(os.path.join(re_name, 'label'))\n",
    "Path(os.path.join(re_name, 'label')).mkdir(parents=True, exist_ok=False)"
   ]
  },
  {
   "cell_type": "code",
   "execution_count": 14,
   "id": "9a804af8-170f-47b6-bc43-88ab9922d490",
   "metadata": {},
   "outputs": [
    {
     "name": "stdout",
     "output_type": "stream",
     "text": [
      "105740\n"
     ]
    }
   ],
   "source": [
    "image_lst1 = os.listdir(os.path.join(re_name, 'image'))\n",
    "print(len(image_lst1))"
   ]
  },
  {
   "cell_type": "code",
   "execution_count": null,
   "id": "2e1f0604-0933-47ba-a5b8-5f320edc4743",
   "metadata": {},
   "outputs": [],
   "source": []
  }
 ],
 "metadata": {
  "kernelspec": {
   "display_name": "Python 3 (ipykernel)",
   "language": "python",
   "name": "python3"
  },
  "language_info": {
   "codemirror_mode": {
    "name": "ipython",
    "version": 3
   },
   "file_extension": ".py",
   "mimetype": "text/x-python",
   "name": "python",
   "nbconvert_exporter": "python",
   "pygments_lexer": "ipython3",
   "version": "3.8.10"
  }
 },
 "nbformat": 4,
 "nbformat_minor": 5
}
