{
 "cells": [
  {
   "cell_type": "code",
   "execution_count": 4,
   "id": "2efb8f12-b25f-4834-b535-625b7c970518",
   "metadata": {},
   "outputs": [],
   "source": [
    "import os \n",
    "from pathlib import Path\n",
    "import glob\n",
    "import shutil"
   ]
  },
  {
   "cell_type": "code",
   "execution_count": 6,
   "id": "2d85ecbf-d5f5-400b-8a35-0640d13f8a59",
   "metadata": {},
   "outputs": [
    {
     "name": "stdout",
     "output_type": "stream",
     "text": [
      "288\n",
      "288\n"
     ]
    }
   ],
   "source": [
    "path = '/hy-tmp/train'\n",
    "images_lst = glob.glob(os.path.join(path, '**/*.jpg'), recursive=True)\n",
    "print(len(images_lst))\n",
    "\n",
    "labels_lst = glob.glob(os.path.join(path, '**/*.txt'), recursive=True)\n",
    "print(len(labels_lst))"
   ]
  },
  {
   "cell_type": "code",
   "execution_count": 7,
   "id": "c7bff794-57e1-461b-ba04-1450cbb17067",
   "metadata": {},
   "outputs": [
    {
     "name": "stdout",
     "output_type": "stream",
     "text": [
      "44\n",
      "44\n"
     ]
    }
   ],
   "source": [
    "path = '/hy-tmp/test'\n",
    "images_lst = glob.glob(os.path.join(path, '**/*.jpg'), recursive=True)\n",
    "print(len(images_lst))\n",
    "\n",
    "labels_lst = glob.glob(os.path.join(path, '**/*.txt'), recursive=True)\n",
    "print(len(labels_lst))"
   ]
  },
  {
   "cell_type": "code",
   "execution_count": 9,
   "id": "147e51bb-977f-4590-8d4c-982c68d5bd68",
   "metadata": {},
   "outputs": [
    {
     "name": "stdout",
     "output_type": "stream",
     "text": [
      "84\n",
      "84\n"
     ]
    }
   ],
   "source": [
    "path = '/hy-tmp/valid'\n",
    "images_lst = glob.glob(os.path.join(path, '**/*.jpg'), recursive=True)\n",
    "print(len(images_lst))\n",
    "\n",
    "labels_lst = glob.glob(os.path.join(path, '**/*.txt'), recursive=True)\n",
    "print(len(labels_lst))"
   ]
  },
  {
   "cell_type": "code",
   "execution_count": 10,
   "id": "dca7a5d6-5de7-4e9d-899a-c924e2203709",
   "metadata": {},
   "outputs": [
    {
     "name": "stdout",
     "output_type": "stream",
     "text": [
      "416\n",
      "416\n"
     ]
    }
   ],
   "source": [
    "path = '/hy-tmp/'\n",
    "images_lst = glob.glob(os.path.join(path, '**/*.jpg'), recursive=True)\n",
    "print(len(images_lst))\n",
    "\n",
    "labels_lst = glob.glob(os.path.join(path, '**/*.txt'), recursive=True)\n",
    "print(len(labels_lst))"
   ]
  },
  {
   "cell_type": "code",
   "execution_count": 11,
   "id": "3a3be05d-97a8-4ab3-af72-1caebbdbe8b4",
   "metadata": {},
   "outputs": [
    {
     "name": "stdout",
     "output_type": "stream",
     "text": [
      "/hy-tmp/test/images/030009_jpg.rf.6c0af35ec3a371b203b377f22c909518.jpg\n",
      "/hy-tmp/test/labels/030009_jpg.rf.6c0af35ec3a371b203b377f22c909518.txt\n"
     ]
    }
   ],
   "source": [
    "print(images_lst[0])\n",
    "print(labels_lst[0])"
   ]
  },
  {
   "cell_type": "code",
   "execution_count": 12,
   "id": "86d67e92-96c9-4a8d-9324-5e232de8af50",
   "metadata": {},
   "outputs": [],
   "source": [
    "re_name = 'TC_dataset'\n",
    "if os.path.exists(re_name):\n",
    "    shutil.rmtree(re_name)\n",
    "Path(re_name).mkdir(parents=True, exist_ok=False)\n",
    "Path(os.path.join(re_name, 'images')).mkdir(parents=True, exist_ok=False)\n",
    "Path(os.path.join(re_name, 'labels')).mkdir(parents=True, exist_ok=False)"
   ]
  },
  {
   "cell_type": "code",
   "execution_count": 13,
   "id": "cba4e35d-1839-4f84-b80c-de6fe443c8e0",
   "metadata": {},
   "outputs": [
    {
     "name": "stdout",
     "output_type": "stream",
     "text": [
      "416\n",
      "416\n"
     ]
    }
   ],
   "source": [
    "for filename in images_lst:\n",
    "    shutil.copy(filename, os.path.join(re_name, 'images'))\n",
    "images_lst1 = os.listdir(os.path.join(re_name, 'images'))\n",
    "print(len(images_lst1))\n",
    "\n",
    "for filename in labels_lst:\n",
    "    shutil.copy(filename, os.path.join(re_name, 'labels'))\n",
    "labels_lst1 = os.listdir(os.path.join(re_name, 'labels'))\n",
    "print(len(labels_lst1))"
   ]
  },
  {
   "cell_type": "code",
   "execution_count": null,
   "id": "5b186ace-dd42-46d1-a1d7-28ddf8e781d0",
   "metadata": {},
   "outputs": [],
   "source": []
  }
 ],
 "metadata": {
  "kernelspec": {
   "display_name": "Python 3 (ipykernel)",
   "language": "python",
   "name": "python3"
  },
  "language_info": {
   "codemirror_mode": {
    "name": "ipython",
    "version": 3
   },
   "file_extension": ".py",
   "mimetype": "text/x-python",
   "name": "python",
   "nbconvert_exporter": "python",
   "pygments_lexer": "ipython3",
   "version": "3.8.10"
  }
 },
 "nbformat": 4,
 "nbformat_minor": 5
}
